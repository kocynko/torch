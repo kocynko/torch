{
 "cells": [
  {
   "cell_type": "code",
   "execution_count": 1,
   "id": "initial_id",
   "metadata": {
    "collapsed": true,
    "ExecuteTime": {
     "end_time": "2024-04-27T21:54:34.299151Z",
     "start_time": "2024-04-27T21:54:32.411959Z"
    }
   },
   "outputs": [],
   "source": [
    "\n",
    "from ultralytics import YOLO\n",
    "from sklearn.metrics import roc_auc_score, classification_report\n",
    "import numpy as np\n",
    "import os\n",
    "import cv2\n",
    "import glob"
   ]
  },
  {
   "cell_type": "code",
   "outputs": [],
   "source": [],
   "metadata": {
    "collapsed": false
   },
   "id": "b1dde61b891cf2ae"
  },
  {
   "cell_type": "code",
   "outputs": [],
   "source": [
    "train_path = \"categorical-cleared-augmented-clahe\"\n",
    "image_size = 384\n",
    "batch_size = 16"
   ],
   "metadata": {
    "collapsed": false,
    "ExecuteTime": {
     "end_time": "2024-04-27T21:54:34.315109Z",
     "start_time": "2024-04-27T21:54:34.303138Z"
    }
   },
   "id": "1d2a64bb5016a093",
   "execution_count": 2
  },
  {
   "cell_type": "code",
   "outputs": [],
   "source": [
    "model = YOLO('yolov8m-cls.pt')"
   ],
   "metadata": {
    "collapsed": false,
    "ExecuteTime": {
     "end_time": "2024-04-27T21:54:35.141872Z",
     "start_time": "2024-04-27T21:54:34.317103Z"
    }
   },
   "id": "30dea91c527c4329",
   "execution_count": 3
  },
  {
   "cell_type": "code",
   "outputs": [
    {
     "name": "stdout",
     "output_type": "stream",
     "text": [
      "New https://pypi.org/project/ultralytics/8.2.4 available  Update with 'pip install -U ultralytics'\n",
      "Ultralytics YOLOv8.1.46  Python-3.8.0 torch-2.2.2+cu118 CUDA:0 (NVIDIA GeForce RTX 3090, 24576MiB)\n",
      "\u001B[34m\u001B[1mengine\\trainer: \u001B[0mtask=classify, mode=train, model=yolov8m-cls.pt, data=categorical-cleared-augmented-clahe, epochs=100, time=None, patience=10, batch=16, imgsz=384, save=True, save_period=-1, cache=False, device=None, workers=8, project=project, name=categorical_162, exist_ok=False, pretrained=True, optimizer=auto, verbose=True, seed=0, deterministic=True, single_cls=False, rect=False, cos_lr=False, close_mosaic=10, resume=False, amp=True, fraction=1.0, profile=False, freeze=None, multi_scale=False, overlap_mask=True, mask_ratio=4, dropout=0.0, val=True, split=val, save_json=False, save_hybrid=False, conf=None, iou=0.7, max_det=300, half=False, dnn=False, plots=True, source=None, vid_stride=1, stream_buffer=False, visualize=False, augment=False, agnostic_nms=False, classes=None, retina_masks=False, embed=None, show=False, save_frames=False, save_txt=False, save_conf=False, save_crop=False, show_labels=True, show_conf=True, show_boxes=True, line_width=None, format=torchscript, keras=False, optimize=False, int8=False, dynamic=False, simplify=False, opset=None, workspace=4, nms=False, lr0=0.01, lrf=0.01, momentum=0.937, weight_decay=0.0005, warmup_epochs=3.0, warmup_momentum=0.8, warmup_bias_lr=0.1, box=7.5, cls=0.5, dfl=1.5, pose=12.0, kobj=1.0, label_smoothing=0.0, nbs=64, hsv_h=0.015, hsv_s=0.7, hsv_v=0.4, degrees=0.0, translate=0.1, scale=0.5, shear=0.0, perspective=0.0, flipud=0.0, fliplr=0.5, bgr=0.0, mosaic=1.0, mixup=0.0, copy_paste=0.0, auto_augment=randaugment, erasing=0, crop_fraction=1.0, cfg=None, tracker=botsort.yaml, save_dir=project\\categorical_162\n",
      "\u001B[34m\u001B[1mtrain:\u001B[0m C:\\Users\\Admin\\Documents\\xkocian\\torch\\categorical-cleared-augmented-clahe\\train... found 3075 images in 3 classes  \n",
      "\u001B[34m\u001B[1mval:\u001B[0m C:\\Users\\Admin\\Documents\\xkocian\\torch\\categorical-cleared-augmented-clahe\\val... found 292 images in 3 classes  \n",
      "\u001B[34m\u001B[1mtest:\u001B[0m C:\\Users\\Admin\\Documents\\xkocian\\torch\\categorical-cleared-augmented-clahe\\test... found 147 images in 3 classes  \n",
      "Overriding model.yaml nc=1000 with nc=3\n",
      "\n",
      "                   from  n    params  module                                       arguments                     \n",
      "  0                  -1  1      1392  ultralytics.nn.modules.conv.Conv             [3, 48, 3, 2]                 \n",
      "  1                  -1  1     41664  ultralytics.nn.modules.conv.Conv             [48, 96, 3, 2]                \n",
      "  2                  -1  2    111360  ultralytics.nn.modules.block.C2f             [96, 96, 2, True]             \n",
      "  3                  -1  1    166272  ultralytics.nn.modules.conv.Conv             [96, 192, 3, 2]               \n",
      "  4                  -1  4    813312  ultralytics.nn.modules.block.C2f             [192, 192, 4, True]           \n",
      "  5                  -1  1    664320  ultralytics.nn.modules.conv.Conv             [192, 384, 3, 2]              \n",
      "  6                  -1  4   3248640  ultralytics.nn.modules.block.C2f             [384, 384, 4, True]           \n",
      "  7                  -1  1   2655744  ultralytics.nn.modules.conv.Conv             [384, 768, 3, 2]              \n",
      "  8                  -1  2   7084032  ultralytics.nn.modules.block.C2f             [768, 768, 2, True]           \n",
      "  9                  -1  1    989443  ultralytics.nn.modules.head.Classify         [768, 3]                      \n",
      "YOLOv8m-cls summary: 141 layers, 15776179 parameters, 15776179 gradients, 41.9 GFLOPs\n",
      "Transferred 228/230 items from pretrained weights\n",
      "\u001B[34m\u001B[1mUltralytics HUB: \u001B[0mView model at https://hub.ultralytics.com/models/i4UpKVqPH5oS3LG20NH5 \n",
      "\u001B[34m\u001B[1mAMP: \u001B[0mrunning Automatic Mixed Precision (AMP) checks with YOLOv8n...\n",
      "\u001B[34m\u001B[1mAMP: \u001B[0mchecks passed \n"
     ]
    },
    {
     "name": "stderr",
     "output_type": "stream",
     "text": [
      "\u001B[34m\u001B[1mtrain: \u001B[0mScanning C:\\Users\\Admin\\Documents\\xkocian\\torch\\categorical-cleared-augmented-clahe\\train... 3075 images, 0 corrupt: 100%|██████████| 3075/3075 [00:00<?, ?it/s]\n",
      "\u001B[34m\u001B[1mval: \u001B[0mScanning C:\\Users\\Admin\\Documents\\xkocian\\torch\\categorical-cleared-augmented-clahe\\val... 292 images, 0 corrupt: 100%|██████████| 292/292 [00:00<?, ?it/s]\n"
     ]
    },
    {
     "name": "stdout",
     "output_type": "stream",
     "text": [
      "\u001B[34m\u001B[1moptimizer:\u001B[0m 'optimizer=auto' found, ignoring 'lr0=0.01' and 'momentum=0.937' and determining best 'optimizer', 'lr0' and 'momentum' automatically... \n",
      "\u001B[34m\u001B[1moptimizer:\u001B[0m AdamW(lr=0.000714, momentum=0.9) with parameter groups 38 weight(decay=0.0), 39 weight(decay=0.0005), 39 bias(decay=0.0)\n",
      "Image sizes 384 train, 384 val\n",
      "Using 8 dataloader workers\n",
      "Logging results to \u001B[1mproject\\categorical_162\u001B[0m\n",
      "Starting training for 100 epochs...\n",
      "\n",
      "      Epoch    GPU_mem       loss  Instances       Size\n"
     ]
    },
    {
     "name": "stderr",
     "output_type": "stream",
     "text": [
      "      1/100         2G     0.8178          3        384: 100%|██████████| 193/193 [00:11<00:00, 17.10it/s]\n",
      "               classes   top1_acc   top5_acc: 100%|██████████| 10/10 [00:00<00:00, 23.21it/s]"
     ]
    },
    {
     "name": "stdout",
     "output_type": "stream",
     "text": [
      "                   all      0.788          1\n"
     ]
    },
    {
     "name": "stderr",
     "output_type": "stream",
     "text": [
      "\n"
     ]
    },
    {
     "name": "stdout",
     "output_type": "stream",
     "text": [
      "\n",
      "      Epoch    GPU_mem       loss  Instances       Size\n"
     ]
    },
    {
     "name": "stderr",
     "output_type": "stream",
     "text": [
      "      2/100      2.17G     0.4455          3        384: 100%|██████████| 193/193 [00:09<00:00, 20.01it/s]\n",
      "               classes   top1_acc   top5_acc: 100%|██████████| 10/10 [00:00<00:00, 35.18it/s]"
     ]
    },
    {
     "name": "stdout",
     "output_type": "stream",
     "text": [
      "                   all       0.86          1\n"
     ]
    },
    {
     "name": "stderr",
     "output_type": "stream",
     "text": [
      "\n"
     ]
    },
    {
     "name": "stdout",
     "output_type": "stream",
     "text": [
      "\n",
      "      Epoch    GPU_mem       loss  Instances       Size\n"
     ]
    },
    {
     "name": "stderr",
     "output_type": "stream",
     "text": [
      "      3/100      2.11G     0.3889          3        384: 100%|██████████| 193/193 [00:09<00:00, 20.46it/s]\n",
      "               classes   top1_acc   top5_acc: 100%|██████████| 10/10 [00:00<00:00, 36.46it/s]"
     ]
    },
    {
     "name": "stdout",
     "output_type": "stream",
     "text": [
      "                   all      0.822          1\n"
     ]
    },
    {
     "name": "stderr",
     "output_type": "stream",
     "text": [
      "\n"
     ]
    },
    {
     "name": "stdout",
     "output_type": "stream",
     "text": [
      "\n",
      "      Epoch    GPU_mem       loss  Instances       Size\n"
     ]
    },
    {
     "name": "stderr",
     "output_type": "stream",
     "text": [
      "      4/100      2.12G     0.3371          3        384: 100%|██████████| 193/193 [00:09<00:00, 20.55it/s]\n",
      "               classes   top1_acc   top5_acc: 100%|██████████| 10/10 [00:00<00:00, 35.06it/s]"
     ]
    },
    {
     "name": "stdout",
     "output_type": "stream",
     "text": [
      "                   all      0.801          1\n"
     ]
    },
    {
     "name": "stderr",
     "output_type": "stream",
     "text": [
      "\n"
     ]
    },
    {
     "name": "stdout",
     "output_type": "stream",
     "text": [
      "\n",
      "      Epoch    GPU_mem       loss  Instances       Size\n"
     ]
    },
    {
     "name": "stderr",
     "output_type": "stream",
     "text": [
      "      5/100      2.12G     0.2514          3        384: 100%|██████████| 193/193 [00:09<00:00, 20.37it/s]\n",
      "               classes   top1_acc   top5_acc: 100%|██████████| 10/10 [00:00<00:00, 36.59it/s]"
     ]
    },
    {
     "name": "stdout",
     "output_type": "stream",
     "text": [
      "                   all      0.856          1\n"
     ]
    },
    {
     "name": "stderr",
     "output_type": "stream",
     "text": [
      "\n"
     ]
    },
    {
     "name": "stdout",
     "output_type": "stream",
     "text": [
      "\n",
      "      Epoch    GPU_mem       loss  Instances       Size\n"
     ]
    },
    {
     "name": "stderr",
     "output_type": "stream",
     "text": [
      "      6/100      2.11G     0.2063          3        384: 100%|██████████| 193/193 [00:09<00:00, 20.19it/s]\n",
      "               classes   top1_acc   top5_acc: 100%|██████████| 10/10 [00:00<00:00, 33.87it/s]"
     ]
    },
    {
     "name": "stdout",
     "output_type": "stream",
     "text": [
      "                   all      0.822          1\n"
     ]
    },
    {
     "name": "stderr",
     "output_type": "stream",
     "text": [
      "\n"
     ]
    },
    {
     "name": "stdout",
     "output_type": "stream",
     "text": [
      "\n",
      "      Epoch    GPU_mem       loss  Instances       Size\n"
     ]
    },
    {
     "name": "stderr",
     "output_type": "stream",
     "text": [
      "      7/100      2.12G     0.1733          3        384: 100%|██████████| 193/193 [00:09<00:00, 20.92it/s]\n",
      "               classes   top1_acc   top5_acc: 100%|██████████| 10/10 [00:00<00:00, 37.41it/s]"
     ]
    },
    {
     "name": "stdout",
     "output_type": "stream",
     "text": [
      "                   all      0.801          1\n"
     ]
    },
    {
     "name": "stderr",
     "output_type": "stream",
     "text": [
      "\n"
     ]
    },
    {
     "name": "stdout",
     "output_type": "stream",
     "text": [
      "\n",
      "      Epoch    GPU_mem       loss  Instances       Size\n"
     ]
    },
    {
     "name": "stderr",
     "output_type": "stream",
     "text": [
      "      8/100      2.11G     0.1377          3        384: 100%|██████████| 193/193 [00:09<00:00, 20.97it/s]\n",
      "               classes   top1_acc   top5_acc: 100%|██████████| 10/10 [00:00<00:00, 36.20it/s]"
     ]
    },
    {
     "name": "stdout",
     "output_type": "stream",
     "text": [
      "                   all      0.808          1\n"
     ]
    },
    {
     "name": "stderr",
     "output_type": "stream",
     "text": [
      "\n"
     ]
    },
    {
     "name": "stdout",
     "output_type": "stream",
     "text": [
      "\n",
      "      Epoch    GPU_mem       loss  Instances       Size\n"
     ]
    },
    {
     "name": "stderr",
     "output_type": "stream",
     "text": [
      "      9/100      2.11G     0.1271          3        384: 100%|██████████| 193/193 [00:09<00:00, 20.59it/s]\n",
      "               classes   top1_acc   top5_acc: 100%|██████████| 10/10 [00:00<00:00, 37.27it/s]"
     ]
    },
    {
     "name": "stdout",
     "output_type": "stream",
     "text": [
      "                   all      0.784          1\n"
     ]
    },
    {
     "name": "stderr",
     "output_type": "stream",
     "text": [
      "\n"
     ]
    },
    {
     "name": "stdout",
     "output_type": "stream",
     "text": [
      "\n",
      "      Epoch    GPU_mem       loss  Instances       Size\n"
     ]
    },
    {
     "name": "stderr",
     "output_type": "stream",
     "text": [
      "     10/100      2.11G     0.1212          3        384: 100%|██████████| 193/193 [00:09<00:00, 21.06it/s]\n",
      "               classes   top1_acc   top5_acc: 100%|██████████| 10/10 [00:00<00:00, 37.14it/s]"
     ]
    },
    {
     "name": "stdout",
     "output_type": "stream",
     "text": [
      "                   all      0.777          1\n"
     ]
    },
    {
     "name": "stderr",
     "output_type": "stream",
     "text": [
      "\n"
     ]
    },
    {
     "name": "stdout",
     "output_type": "stream",
     "text": [
      "\n",
      "      Epoch    GPU_mem       loss  Instances       Size\n"
     ]
    },
    {
     "name": "stderr",
     "output_type": "stream",
     "text": [
      "     11/100      2.11G     0.1155          3        384: 100%|██████████| 193/193 [00:09<00:00, 21.05it/s]\n",
      "               classes   top1_acc   top5_acc: 100%|██████████| 10/10 [00:00<00:00, 34.10it/s]"
     ]
    },
    {
     "name": "stdout",
     "output_type": "stream",
     "text": [
      "                   all      0.842          1\n"
     ]
    },
    {
     "name": "stderr",
     "output_type": "stream",
     "text": [
      "\n"
     ]
    },
    {
     "name": "stdout",
     "output_type": "stream",
     "text": [
      "\n",
      "      Epoch    GPU_mem       loss  Instances       Size\n"
     ]
    },
    {
     "name": "stderr",
     "output_type": "stream",
     "text": [
      "     12/100      2.12G    0.08686          3        384: 100%|██████████| 193/193 [00:09<00:00, 20.78it/s]\n",
      "               classes   top1_acc   top5_acc: 100%|██████████| 10/10 [00:00<00:00, 36.46it/s]"
     ]
    },
    {
     "name": "stdout",
     "output_type": "stream",
     "text": [
      "                   all      0.818          1\n",
      "\u001B[34m\u001B[1mEarlyStopping: \u001B[0mTraining stopped early as no improvement observed in last 10 epochs. Best results observed at epoch 2, best model saved as best.pt.\n",
      "To update EarlyStopping(patience=10) pass a new patience value, i.e. `patience=300` or use `patience=0` to disable EarlyStopping.\n"
     ]
    },
    {
     "name": "stderr",
     "output_type": "stream",
     "text": [
      "\n"
     ]
    },
    {
     "name": "stdout",
     "output_type": "stream",
     "text": [
      "\n",
      "12 epochs completed in 0.035 hours.\n",
      "Optimizer stripped from project\\categorical_162\\weights\\last.pt, 31.7MB\n",
      "Optimizer stripped from project\\categorical_162\\weights\\best.pt, 31.7MB\n",
      "\n",
      "Validating project\\categorical_162\\weights\\best.pt...\n",
      "Ultralytics YOLOv8.1.46  Python-3.8.0 torch-2.2.2+cu118 CUDA:0 (NVIDIA GeForce RTX 3090, 24576MiB)\n",
      "YOLOv8m-cls summary (fused): 103 layers, 15766499 parameters, 0 gradients, 41.6 GFLOPs\n",
      "\u001B[34m\u001B[1mtrain:\u001B[0m C:\\Users\\Admin\\Documents\\xkocian\\torch\\categorical-cleared-augmented-clahe\\train... found 3075 images in 3 classes  \n",
      "\u001B[34m\u001B[1mval:\u001B[0m C:\\Users\\Admin\\Documents\\xkocian\\torch\\categorical-cleared-augmented-clahe\\val... found 292 images in 3 classes  \n",
      "\u001B[34m\u001B[1mtest:\u001B[0m C:\\Users\\Admin\\Documents\\xkocian\\torch\\categorical-cleared-augmented-clahe\\test... found 147 images in 3 classes  \n"
     ]
    },
    {
     "name": "stderr",
     "output_type": "stream",
     "text": [
      "               classes   top1_acc   top5_acc: 100%|██████████| 10/10 [00:00<00:00, 29.66it/s]\n"
     ]
    },
    {
     "name": "stdout",
     "output_type": "stream",
     "text": [
      "                   all       0.86          1\n",
      "Speed: 0.2ms preprocess, 0.9ms inference, 0.0ms loss, 0.0ms postprocess per image\n",
      "Results saved to \u001B[1mproject\\categorical_162\u001B[0m\n",
      "Results saved to \u001B[1mproject\\categorical_162\u001B[0m\n",
      "\u001B[34m\u001B[1mUltralytics HUB: \u001B[0mSyncing final model...\n"
     ]
    },
    {
     "name": "stderr",
     "output_type": "stream",
     "text": [
      "100%|██████████| 30.2M/30.2M [00:02<00:00, 12.3MB/s]"
     ]
    },
    {
     "name": "stdout",
     "output_type": "stream",
     "text": [
      "\u001B[34m\u001B[1mUltralytics HUB: \u001B[0mDone \n",
      "\u001B[34m\u001B[1mUltralytics HUB: \u001B[0mView model at https://hub.ultralytics.com/models/i4UpKVqPH5oS3LG20NH5 \n"
     ]
    },
    {
     "name": "stderr",
     "output_type": "stream",
     "text": [
      "\n"
     ]
    },
    {
     "data": {
      "text/plain": "ultralytics.utils.metrics.ClassifyMetrics object with attributes:\n\nconfusion_matrix: <ultralytics.utils.metrics.ConfusionMatrix object at 0x000002E0A0E79340>\ncurves: []\ncurves_results: []\nfitness: 0.9297945201396942\nkeys: ['metrics/accuracy_top1', 'metrics/accuracy_top5']\nresults_dict: {'metrics/accuracy_top1': 0.8595890402793884, 'metrics/accuracy_top5': 1.0, 'fitness': 0.9297945201396942}\nsave_dir: WindowsPath('project/categorical_162')\nspeed: {'preprocess': 0.20837293912286628, 'inference': 0.8606820890348251, 'loss': 0.006838204109505431, 'postprocess': 0.0}\ntask: 'classify'\ntop1: 0.8595890402793884\ntop5: 1.0"
     },
     "execution_count": 4,
     "metadata": {},
     "output_type": "execute_result"
    }
   ],
   "source": [
    "model.train(data=train_path, epochs=100, erasing=0, mixup=0.0, project='project', batch=batch_size, imgsz=image_size, patience=10, name=f'{train_path.split(\"-\")[0]}_{batch_size}')"
   ],
   "metadata": {
    "collapsed": false,
    "ExecuteTime": {
     "end_time": "2024-04-27T21:57:41.300189Z",
     "start_time": "2024-04-27T21:54:35.142870Z"
    }
   },
   "id": "49cac082653a164a",
   "execution_count": 4
  },
  {
   "cell_type": "code",
   "outputs": [
    {
     "name": "stdout",
     "output_type": "stream",
     "text": [
      "['dry', 'normal', 'wet']\n"
     ]
    }
   ],
   "source": [
    "test_data_path = f\"{train_path}/test\"\n",
    "predictions = []\n",
    "test_images = []\n",
    "test_classes = []\n",
    "test_labels =[]\n",
    "class_folders = os.listdir(test_data_path)\n",
    "for class_index, class_folder in enumerate(class_folders):\n",
    "    class_path = os.path.join(test_data_path, class_folder)\n",
    "    if os.path.isdir(class_path):\n",
    "        for image_file in glob.glob(os.path.join(class_path, \"*.jpg\")):\n",
    "            # Load the image using OpenCV\n",
    "            image = cv2.imread(image_file)\n",
    "            # Preprocess the image (resize, normalize, etc.) if needed\n",
    "            # Perform prediction using your YOLOv8 model\n",
    "            prediction = model.predict(image, imgsz=384, verbose=False)  # Assuming model.predict() takes an image as input\n",
    "            for result in prediction:\n",
    "                predictions.append(result.probs.data.cpu().numpy())\n",
    "            test_images.append(image)\n",
    "            test_labels.append(class_folder)\n",
    "            test_classes.append(class_index)"
   ],
   "metadata": {
    "collapsed": false,
    "ExecuteTime": {
     "end_time": "2024-04-27T22:06:44.896480Z",
     "start_time": "2024-04-27T22:06:42.407132Z"
    }
   },
   "id": "a5881f636ecd1e6e",
   "execution_count": 21
  },
  {
   "cell_type": "code",
   "outputs": [
    {
     "name": "stdout",
     "output_type": "stream",
     "text": [
      "              precision    recall  f1-score   support\n",
      "\n",
      "           0     0.8929    0.7812    0.8333        64\n",
      "           1     0.8553    0.9286    0.8904        70\n",
      "           2     0.7333    0.8462    0.7857        13\n",
      "\n",
      "    accuracy                         0.8571       147\n",
      "   macro avg     0.8272    0.8520    0.8365       147\n",
      "weighted avg     0.8608    0.8571    0.8563       147\n"
     ]
    }
   ],
   "source": [
    "from sklearn.metrics import confusion_matrix\n",
    "from matplotlib import pyplot as plt\n",
    "from sklearn.preprocessing import LabelBinarizer\n",
    "import seaborn as sns\n",
    "\n",
    "predicted_classes = np.argmax(predictions, axis=1)\n",
    "confusionmatrix = confusion_matrix(test_classes, predicted_classes)\n",
    "plt.figure(figsize=(4, 4))\n",
    "sns.set(font_scale=1.2)\n",
    "sns.heatmap(confusionmatrix, cmap='Blues', annot=True, cbar=True, fmt='g', xticklabels=list(set(test_labels)),\n",
    "            yticklabels=list(set(test_labels)))\n",
    "\n",
    "plt.savefig(f'plots/confusion_matrix_{train_path.split(\"-\")[0]}_{batch_size}.jpg')\n",
    "print(classification_report(test_classes, predicted_classes, digits=4))"
   ],
   "metadata": {
    "collapsed": false,
    "ExecuteTime": {
     "end_time": "2024-04-27T21:59:08.490712Z",
     "start_time": "2024-04-27T21:59:08.357044Z"
    }
   },
   "id": "91d1afa0fb26f87",
   "execution_count": 10
  },
  {
   "cell_type": "code",
   "outputs": [
    {
     "data": {
      "text/plain": "<Figure size 600x600 with 1 Axes>"
     },
     "metadata": {},
     "output_type": "display_data"
    }
   ],
   "source": [
    "from sklearn.metrics import roc_curve, auc\n",
    "\n",
    "lb = LabelBinarizer()\n",
    "lb.fit(test_classes)\n",
    "test_classes_bin = lb.transform(test_classes)\n",
    "\n",
    "\n",
    "\n",
    "plt.figure(figsize=(6, 6))\n",
    "for i in range(len(lb.classes_)):\n",
    "    # Extract probabilities for class i from predictions\n",
    "    class_probabilities = [pred[i] for pred in predictions]\n",
    "    fpr, tpr, _ = roc_curve(test_classes_bin[:, i], class_probabilities)\n",
    "    roc_auc = roc_auc_score(test_classes_bin[:, i], class_probabilities)\n",
    "    plt.plot(fpr, tpr, label=f'ROC krivka (plocha = {roc_auc:.2f}) pre triedu {class_folders[i]}')\n",
    "\n",
    "plt.plot([0, 1], [0, 1], 'k--')\n",
    "plt.xlim([0.0, 1.0])\n",
    "plt.ylim([0.0, 1.05])\n",
    "plt.xlabel('Falošne pozitívne hodnotenia')\n",
    "plt.ylabel('Pravdivé pozitívne hodnotenia')\n",
    "plt.title('Krivka (ROC)')\n",
    "plt.legend(loc=\"lower right\")\n",
    "plt.savefig(f'plots/roc_auc_{train_path.split(\"-\")[0]}_{batch_size}.jpg')\n",
    "plt.show()"
   ],
   "metadata": {
    "collapsed": false,
    "ExecuteTime": {
     "end_time": "2024-04-27T22:06:58.423287Z",
     "start_time": "2024-04-27T22:06:58.295546Z"
    }
   },
   "id": "eb9c295643b4d4a3",
   "execution_count": 22
  },
  {
   "cell_type": "code",
   "outputs": [
    {
     "ename": "ValueError",
     "evalue": "multiclass format is not supported",
     "output_type": "error",
     "traceback": [
      "\u001B[1;31m---------------------------------------------------------------------------\u001B[0m",
      "\u001B[1;31mValueError\u001B[0m                                Traceback (most recent call last)",
      "Cell \u001B[1;32mIn[8], line 17\u001B[0m\n\u001B[0;32m     13\u001B[0m \u001B[38;5;66;03m# Convert the list to a numpy array\u001B[39;00m\n\u001B[0;32m     14\u001B[0m predictions_positive_class \u001B[38;5;241m=\u001B[39m np\u001B[38;5;241m.\u001B[39marray(probabilities_positive_class)\n\u001B[1;32m---> 17\u001B[0m fpr, tpr, thresholds \u001B[38;5;241m=\u001B[39m \u001B[43mroc_curve\u001B[49m\u001B[43m(\u001B[49m\u001B[43mtest_classes\u001B[49m\u001B[43m,\u001B[49m\u001B[43m \u001B[49m\u001B[43mpredictions_positive_class\u001B[49m\u001B[43m)\u001B[49m\n\u001B[0;32m     18\u001B[0m roc_auc \u001B[38;5;241m=\u001B[39m auc(fpr, tpr)\n\u001B[0;32m     20\u001B[0m \u001B[38;5;66;03m# Plot ROC curve\u001B[39;00m\n",
      "File \u001B[1;32m~\\Documents\\xkocian\\torch\\.venv\\lib\\site-packages\\sklearn\\utils\\_param_validation.py:214\u001B[0m, in \u001B[0;36mvalidate_params.<locals>.decorator.<locals>.wrapper\u001B[1;34m(*args, **kwargs)\u001B[0m\n\u001B[0;32m    208\u001B[0m \u001B[38;5;28;01mtry\u001B[39;00m:\n\u001B[0;32m    209\u001B[0m     \u001B[38;5;28;01mwith\u001B[39;00m config_context(\n\u001B[0;32m    210\u001B[0m         skip_parameter_validation\u001B[38;5;241m=\u001B[39m(\n\u001B[0;32m    211\u001B[0m             prefer_skip_nested_validation \u001B[38;5;129;01mor\u001B[39;00m global_skip_validation\n\u001B[0;32m    212\u001B[0m         )\n\u001B[0;32m    213\u001B[0m     ):\n\u001B[1;32m--> 214\u001B[0m         \u001B[38;5;28;01mreturn\u001B[39;00m \u001B[43mfunc\u001B[49m\u001B[43m(\u001B[49m\u001B[38;5;241;43m*\u001B[39;49m\u001B[43margs\u001B[49m\u001B[43m,\u001B[49m\u001B[43m \u001B[49m\u001B[38;5;241;43m*\u001B[39;49m\u001B[38;5;241;43m*\u001B[39;49m\u001B[43mkwargs\u001B[49m\u001B[43m)\u001B[49m\n\u001B[0;32m    215\u001B[0m \u001B[38;5;28;01mexcept\u001B[39;00m InvalidParameterError \u001B[38;5;28;01mas\u001B[39;00m e:\n\u001B[0;32m    216\u001B[0m     \u001B[38;5;66;03m# When the function is just a wrapper around an estimator, we allow\u001B[39;00m\n\u001B[0;32m    217\u001B[0m     \u001B[38;5;66;03m# the function to delegate validation to the estimator, but we replace\u001B[39;00m\n\u001B[0;32m    218\u001B[0m     \u001B[38;5;66;03m# the name of the estimator by the name of the function in the error\u001B[39;00m\n\u001B[0;32m    219\u001B[0m     \u001B[38;5;66;03m# message to avoid confusion.\u001B[39;00m\n\u001B[0;32m    220\u001B[0m     msg \u001B[38;5;241m=\u001B[39m re\u001B[38;5;241m.\u001B[39msub(\n\u001B[0;32m    221\u001B[0m         \u001B[38;5;124mr\u001B[39m\u001B[38;5;124m\"\u001B[39m\u001B[38;5;124mparameter of \u001B[39m\u001B[38;5;124m\\\u001B[39m\u001B[38;5;124mw+ must be\u001B[39m\u001B[38;5;124m\"\u001B[39m,\n\u001B[0;32m    222\u001B[0m         \u001B[38;5;124mf\u001B[39m\u001B[38;5;124m\"\u001B[39m\u001B[38;5;124mparameter of \u001B[39m\u001B[38;5;132;01m{\u001B[39;00mfunc\u001B[38;5;241m.\u001B[39m\u001B[38;5;18m__qualname__\u001B[39m\u001B[38;5;132;01m}\u001B[39;00m\u001B[38;5;124m must be\u001B[39m\u001B[38;5;124m\"\u001B[39m,\n\u001B[0;32m    223\u001B[0m         \u001B[38;5;28mstr\u001B[39m(e),\n\u001B[0;32m    224\u001B[0m     )\n",
      "File \u001B[1;32m~\\Documents\\xkocian\\torch\\.venv\\lib\\site-packages\\sklearn\\metrics\\_ranking.py:1095\u001B[0m, in \u001B[0;36mroc_curve\u001B[1;34m(y_true, y_score, pos_label, sample_weight, drop_intermediate)\u001B[0m\n\u001B[0;32m    993\u001B[0m \u001B[38;5;129m@validate_params\u001B[39m(\n\u001B[0;32m    994\u001B[0m     {\n\u001B[0;32m    995\u001B[0m         \u001B[38;5;124m\"\u001B[39m\u001B[38;5;124my_true\u001B[39m\u001B[38;5;124m\"\u001B[39m: [\u001B[38;5;124m\"\u001B[39m\u001B[38;5;124marray-like\u001B[39m\u001B[38;5;124m\"\u001B[39m],\n\u001B[1;32m   (...)\u001B[0m\n\u001B[0;32m   1004\u001B[0m     y_true, y_score, \u001B[38;5;241m*\u001B[39m, pos_label\u001B[38;5;241m=\u001B[39m\u001B[38;5;28;01mNone\u001B[39;00m, sample_weight\u001B[38;5;241m=\u001B[39m\u001B[38;5;28;01mNone\u001B[39;00m, drop_intermediate\u001B[38;5;241m=\u001B[39m\u001B[38;5;28;01mTrue\u001B[39;00m\n\u001B[0;32m   1005\u001B[0m ):\n\u001B[0;32m   1006\u001B[0m \u001B[38;5;250m    \u001B[39m\u001B[38;5;124;03m\"\"\"Compute Receiver operating characteristic (ROC).\u001B[39;00m\n\u001B[0;32m   1007\u001B[0m \n\u001B[0;32m   1008\u001B[0m \u001B[38;5;124;03m    Note: this implementation is restricted to the binary classification task.\u001B[39;00m\n\u001B[1;32m   (...)\u001B[0m\n\u001B[0;32m   1093\u001B[0m \u001B[38;5;124;03m    array([ inf, 0.8 , 0.4 , 0.35, 0.1 ])\u001B[39;00m\n\u001B[0;32m   1094\u001B[0m \u001B[38;5;124;03m    \"\"\"\u001B[39;00m\n\u001B[1;32m-> 1095\u001B[0m     fps, tps, thresholds \u001B[38;5;241m=\u001B[39m \u001B[43m_binary_clf_curve\u001B[49m\u001B[43m(\u001B[49m\n\u001B[0;32m   1096\u001B[0m \u001B[43m        \u001B[49m\u001B[43my_true\u001B[49m\u001B[43m,\u001B[49m\u001B[43m \u001B[49m\u001B[43my_score\u001B[49m\u001B[43m,\u001B[49m\u001B[43m \u001B[49m\u001B[43mpos_label\u001B[49m\u001B[38;5;241;43m=\u001B[39;49m\u001B[43mpos_label\u001B[49m\u001B[43m,\u001B[49m\u001B[43m \u001B[49m\u001B[43msample_weight\u001B[49m\u001B[38;5;241;43m=\u001B[39;49m\u001B[43msample_weight\u001B[49m\n\u001B[0;32m   1097\u001B[0m \u001B[43m    \u001B[49m\u001B[43m)\u001B[49m\n\u001B[0;32m   1099\u001B[0m     \u001B[38;5;66;03m# Attempt to drop thresholds corresponding to points in between and\u001B[39;00m\n\u001B[0;32m   1100\u001B[0m     \u001B[38;5;66;03m# collinear with other points. These are always suboptimal and do not\u001B[39;00m\n\u001B[0;32m   1101\u001B[0m     \u001B[38;5;66;03m# appear on a plotted ROC curve (and thus do not affect the AUC).\u001B[39;00m\n\u001B[1;32m   (...)\u001B[0m\n\u001B[0;32m   1106\u001B[0m     \u001B[38;5;66;03m# but does not drop more complicated cases like fps = [1, 3, 7],\u001B[39;00m\n\u001B[0;32m   1107\u001B[0m     \u001B[38;5;66;03m# tps = [1, 2, 4]; there is no harm in keeping too many thresholds.\u001B[39;00m\n\u001B[0;32m   1108\u001B[0m     \u001B[38;5;28;01mif\u001B[39;00m drop_intermediate \u001B[38;5;129;01mand\u001B[39;00m \u001B[38;5;28mlen\u001B[39m(fps) \u001B[38;5;241m>\u001B[39m \u001B[38;5;241m2\u001B[39m:\n",
      "File \u001B[1;32m~\\Documents\\xkocian\\torch\\.venv\\lib\\site-packages\\sklearn\\metrics\\_ranking.py:804\u001B[0m, in \u001B[0;36m_binary_clf_curve\u001B[1;34m(y_true, y_score, pos_label, sample_weight)\u001B[0m\n\u001B[0;32m    802\u001B[0m y_type \u001B[38;5;241m=\u001B[39m type_of_target(y_true, input_name\u001B[38;5;241m=\u001B[39m\u001B[38;5;124m\"\u001B[39m\u001B[38;5;124my_true\u001B[39m\u001B[38;5;124m\"\u001B[39m)\n\u001B[0;32m    803\u001B[0m \u001B[38;5;28;01mif\u001B[39;00m \u001B[38;5;129;01mnot\u001B[39;00m (y_type \u001B[38;5;241m==\u001B[39m \u001B[38;5;124m\"\u001B[39m\u001B[38;5;124mbinary\u001B[39m\u001B[38;5;124m\"\u001B[39m \u001B[38;5;129;01mor\u001B[39;00m (y_type \u001B[38;5;241m==\u001B[39m \u001B[38;5;124m\"\u001B[39m\u001B[38;5;124mmulticlass\u001B[39m\u001B[38;5;124m\"\u001B[39m \u001B[38;5;129;01mand\u001B[39;00m pos_label \u001B[38;5;129;01mis\u001B[39;00m \u001B[38;5;129;01mnot\u001B[39;00m \u001B[38;5;28;01mNone\u001B[39;00m)):\n\u001B[1;32m--> 804\u001B[0m     \u001B[38;5;28;01mraise\u001B[39;00m \u001B[38;5;167;01mValueError\u001B[39;00m(\u001B[38;5;124m\"\u001B[39m\u001B[38;5;132;01m{0}\u001B[39;00m\u001B[38;5;124m format is not supported\u001B[39m\u001B[38;5;124m\"\u001B[39m\u001B[38;5;241m.\u001B[39mformat(y_type))\n\u001B[0;32m    806\u001B[0m check_consistent_length(y_true, y_score, sample_weight)\n\u001B[0;32m    807\u001B[0m y_true \u001B[38;5;241m=\u001B[39m column_or_1d(y_true)\n",
      "\u001B[1;31mValueError\u001B[0m: multiclass format is not supported"
     ]
    }
   ],
   "source": [
    "# from sklearn.metrics import roc_curve, auc\n",
    "# \n",
    "# # Initialize an empty list to store probabilities of the positive class\n",
    "# probabilities_positive_class = []\n",
    "# \n",
    "# # Iterate over each array in the predictions list\n",
    "# for prediction in predictions:\n",
    "#     # Extract the probability of the positive class (assuming it's the second element)\n",
    "#     probability_positive_class = prediction[1]\n",
    "#     # Append the probability to the list\n",
    "#     probabilities_positive_class.append(probability_positive_class)\n",
    "# \n",
    "# # Convert the list to a numpy array\n",
    "# predictions_positive_class = np.array(probabilities_positive_class)\n",
    "# \n",
    "# \n",
    "# fpr, tpr, thresholds = roc_curve(test_classes, predictions_positive_class)\n",
    "# roc_auc = auc(fpr, tpr)\n",
    "# \n",
    "# # Plot ROC curve\n",
    "# plt.figure(figsize=(6, 6))\n",
    "# plt.plot(fpr, tpr, label=f'ROC krivka (AUC = {roc_auc:.3f})')\n",
    "# \n",
    "# plt.plot([0, 1], [0, 1], 'k--')\n",
    "# plt.xlim([0.0, 1.0])\n",
    "# plt.ylim([0.0, 1.05])\n",
    "# plt.xlabel('Falošne pozitívne hodnotenia')\n",
    "# plt.ylabel('Pravdivé pozitívne hodnotenia')\n",
    "# plt.title('Krivka (ROC)')\n",
    "# plt.legend(loc=\"lower right\")\n",
    "# plt.savefig(f'plots/roc_auc_{train_path.split(\"-\")[0]}_{batch_size}.jpg')\n",
    "# plt.show()\n"
   ],
   "metadata": {
    "collapsed": false,
    "ExecuteTime": {
     "end_time": "2024-04-27T21:57:44.545059Z",
     "start_time": "2024-04-27T21:57:44.068305Z"
    }
   },
   "id": "d322bb6e73315b09",
   "execution_count": 8
  },
  {
   "cell_type": "code",
   "outputs": [],
   "source": [],
   "metadata": {
    "collapsed": false,
    "ExecuteTime": {
     "start_time": "2024-04-27T21:57:44.546057Z"
    }
   },
   "id": "125795528082f1da",
   "execution_count": null
  }
 ],
 "metadata": {
  "kernelspec": {
   "display_name": "Python 3",
   "language": "python",
   "name": "python3"
  },
  "language_info": {
   "codemirror_mode": {
    "name": "ipython",
    "version": 2
   },
   "file_extension": ".py",
   "mimetype": "text/x-python",
   "name": "python",
   "nbconvert_exporter": "python",
   "pygments_lexer": "ipython2",
   "version": "2.7.6"
  }
 },
 "nbformat": 4,
 "nbformat_minor": 5
}
