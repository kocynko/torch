{
 "cells": [
  {
   "cell_type": "code",
   "execution_count": null,
   "id": "initial_id",
   "metadata": {
    "collapsed": true
   },
   "outputs": [],
   "source": [
    "from ultralytics import YOLO\n",
    "from sklearn.metrics import roc_auc_score, classification_report\n",
    "import numpy as np\n",
    "import os\n",
    "import cv2\n",
    "import glob"
   ]
  },
  {
   "cell_type": "code",
   "outputs": [],
   "source": [
    "train_path = \"categorical-cleared-augmented-clahe\"\n",
    "image_size = 384\n",
    "batch_size = 16"
   ],
   "metadata": {
    "collapsed": false
   },
   "id": "1d2a64bb5016a093",
   "execution_count": null
  },
  {
   "cell_type": "code",
   "outputs": [],
   "source": [
    "model = YOLO('yolov8m-cls.pt')"
   ],
   "metadata": {
    "collapsed": false
   },
   "id": "30dea91c527c4329",
   "execution_count": null
  },
  {
   "cell_type": "code",
   "outputs": [],
   "source": [
    "model.train(data=train_path, epochs=100, erasing=0, mixup=0.0, project='project', batch=batch_size, imgsz=image_size, patience=10, name=f'{train_path.split(\"-\")[0]}_{batch_size}')"
   ],
   "metadata": {
    "collapsed": false
   },
   "id": "49cac082653a164a",
   "execution_count": null
  },
  {
   "cell_type": "code",
   "outputs": [],
   "source": [
    "test_data_path = f\"{train_path}/test\"\n",
    "predictions = []\n",
    "test_images = []\n",
    "test_classes = []\n",
    "test_labels =[]\n",
    "class_folders = os.listdir(test_data_path)\n",
    "for class_index, class_folder in enumerate(class_folders):\n",
    "    class_path = os.path.join(test_data_path, class_folder)\n",
    "    if os.path.isdir(class_path):\n",
    "        for image_file in glob.glob(os.path.join(class_path, \"*.jpg\")):\n",
    "            # Load the image using OpenCV\n",
    "            image = cv2.imread(image_file)\n",
    "            # Preprocess the image (resize, normalize, etc.) if needed\n",
    "            # Perform prediction using your YOLOv8 model\n",
    "            prediction = model.predict(image, imgsz=384, verbose=False)  # Assuming model.predict() takes an image as input\n",
    "            for result in prediction:\n",
    "                predictions.append(result.probs.data.cpu().numpy())\n",
    "            test_images.append(image)\n",
    "            test_labels.append(class_folder)\n",
    "            test_classes.append(class_index)"
   ],
   "metadata": {
    "collapsed": false
   },
   "id": "a5881f636ecd1e6e",
   "execution_count": null
  },
  {
   "cell_type": "code",
   "outputs": [],
   "source": [
    "from sklearn.metrics import confusion_matrix\n",
    "from matplotlib import pyplot as plt\n",
    "from sklearn.preprocessing import LabelBinarizer\n",
    "import seaborn as sns\n",
    "\n",
    "predicted_classes = np.argmax(predictions, axis=1)\n",
    "confusionmatrix = confusion_matrix(test_classes, predicted_classes)\n",
    "plt.figure(figsize=(4, 4))\n",
    "sns.set(font_scale=1.2)\n",
    "sns.heatmap(confusionmatrix, cmap='Blues', annot=True, cbar=True, fmt='g', xticklabels=list(set(test_labels)),\n",
    "            yticklabels=list(set(test_labels)))\n",
    "\n",
    "plt.savefig(f'plots/confusion_matrix_{train_path.split(\"-\")[0]}_{batch_size}.jpg')\n",
    "print(classification_report(test_classes, predicted_classes, digits=4))"
   ],
   "metadata": {
    "collapsed": false
   },
   "id": "91d1afa0fb26f87",
   "execution_count": null
  },
  {
   "cell_type": "code",
   "outputs": [],
   "source": [
    "from sklearn.metrics import roc_curve, auc\n",
    "\n",
    "lb = LabelBinarizer()\n",
    "lb.fit(test_classes)\n",
    "test_classes_bin = lb.transform(test_classes)\n",
    "\n",
    "\n",
    "\n",
    "plt.figure(figsize=(6, 6))\n",
    "for i in range(len(lb.classes_)):\n",
    "    # Extract probabilities for class i from predictions\n",
    "    class_probabilities = [pred[i] for pred in predictions]\n",
    "    fpr, tpr, _ = roc_curve(test_classes_bin[:, i], class_probabilities)\n",
    "    roc_auc = roc_auc_score(test_classes_bin[:, i], class_probabilities)\n",
    "    plt.plot(fpr, tpr, label=f'ROC krivka (plocha = {roc_auc:.2f}) pre triedu {class_folders[i]}')\n",
    "\n",
    "plt.plot([0, 1], [0, 1], 'k--')\n",
    "plt.xlim([0.0, 1.0])\n",
    "plt.ylim([0.0, 1.05])\n",
    "plt.xlabel('Falošne pozitívne hodnotenia')\n",
    "plt.ylabel('Pravdivé pozitívne hodnotenia')\n",
    "plt.title('Krivka (ROC)')\n",
    "plt.legend(loc=\"lower right\")\n",
    "plt.savefig(f'plots/roc_auc_{train_path.split(\"-\")[0]}_{batch_size}.jpg')\n",
    "plt.show()"
   ],
   "metadata": {
    "collapsed": false
   },
   "id": "eb9c295643b4d4a3",
   "execution_count": null
  },
  {
   "cell_type": "code",
   "outputs": [],
   "source": [
    "# from sklearn.metrics import roc_curve, auc\n",
    "# \n",
    "# # Initialize an empty list to store probabilities of the positive class\n",
    "# probabilities_positive_class = []\n",
    "# \n",
    "# # Iterate over each array in the predictions list\n",
    "# for prediction in predictions:\n",
    "#     # Extract the probability of the positive class (assuming it's the second element)\n",
    "#     probability_positive_class = prediction[1]\n",
    "#     # Append the probability to the list\n",
    "#     probabilities_positive_class.append(probability_positive_class)\n",
    "# \n",
    "# # Convert the list to a numpy array\n",
    "# predictions_positive_class = np.array(probabilities_positive_class)\n",
    "# \n",
    "# \n",
    "# fpr, tpr, thresholds = roc_curve(test_classes, predictions_positive_class)\n",
    "# roc_auc = auc(fpr, tpr)\n",
    "# \n",
    "# # Plot ROC curve\n",
    "# plt.figure(figsize=(6, 6))\n",
    "# plt.plot(fpr, tpr, label=f'ROC krivka (AUC = {roc_auc:.3f})')\n",
    "# \n",
    "# plt.plot([0, 1], [0, 1], 'k--')\n",
    "# plt.xlim([0.0, 1.0])\n",
    "# plt.ylim([0.0, 1.05])\n",
    "# plt.xlabel('Falošne pozitívne hodnotenia')\n",
    "# plt.ylabel('Pravdivé pozitívne hodnotenia')\n",
    "# plt.title('Krivka (ROC)')\n",
    "# plt.legend(loc=\"lower right\")\n",
    "# plt.savefig(f'plots/roc_auc_{train_path.split(\"-\")[0]}_{batch_size}.jpg')\n",
    "# plt.show()\n"
   ],
   "metadata": {
    "collapsed": false
   },
   "id": "d322bb6e73315b09",
   "execution_count": null
  }
 ],
 "metadata": {
  "kernelspec": {
   "display_name": "Python 3",
   "language": "python",
   "name": "python3"
  },
  "language_info": {
   "codemirror_mode": {
    "name": "ipython",
    "version": 2
   },
   "file_extension": ".py",
   "mimetype": "text/x-python",
   "name": "python",
   "nbconvert_exporter": "python",
   "pygments_lexer": "ipython2",
   "version": "2.7.6"
  }
 },
 "nbformat": 4,
 "nbformat_minor": 5
}
