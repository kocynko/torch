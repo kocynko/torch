{
 "cells": [
  {
   "cell_type": "code",
   "execution_count": 20,
   "id": "initial_id",
   "metadata": {
    "collapsed": true,
    "ExecuteTime": {
     "end_time": "2024-04-27T20:33:14.782113Z",
     "start_time": "2024-04-27T20:33:14.768152Z"
    }
   },
   "outputs": [],
   "source": [
    "\n",
    "from ultralytics import YOLO\n",
    "from sklearn.metrics import roc_auc_score, classification_report\n",
    "import numpy as np\n",
    "import os\n",
    "import cv2\n",
    "import glob"
   ]
  },
  {
   "cell_type": "code",
   "outputs": [],
   "source": [
    "train_path = \"detection-armd-augmented-clahe\"\n",
    "image_size = 384\n",
    "batch_size = 16"
   ],
   "metadata": {
    "collapsed": false,
    "ExecuteTime": {
     "end_time": "2024-04-27T20:33:14.798095Z",
     "start_time": "2024-04-27T20:33:14.783110Z"
    }
   },
   "id": "1d2a64bb5016a093",
   "execution_count": 21
  },
  {
   "cell_type": "code",
   "outputs": [],
   "source": [
    "model = YOLO('yolov8m-cls.pt')"
   ],
   "metadata": {
    "collapsed": false,
    "ExecuteTime": {
     "end_time": "2024-04-27T20:33:14.845943Z",
     "start_time": "2024-04-27T20:33:14.799109Z"
    }
   },
   "id": "30dea91c527c4329",
   "execution_count": 22
  },
  {
   "cell_type": "code",
   "outputs": [
    {
     "name": "stdout",
     "output_type": "stream",
     "text": [
      "New https://pypi.org/project/ultralytics/8.2.4 available  Update with 'pip install -U ultralytics'\n",
      "Ultralytics YOLOv8.1.46  Python-3.8.0 torch-2.2.2+cu118 CUDA:0 (NVIDIA GeForce RTX 3090, 24576MiB)\n",
      "\u001B[34m\u001B[1mengine\\trainer: \u001B[0mtask=classify, mode=train, model=yolov8m-cls.pt, data=detection-armd-augmented-clahe, epochs=100, time=None, patience=10, batch=16, imgsz=384, save=True, save_period=-1, cache=False, device=None, workers=8, project=project, name=detection_16, exist_ok=False, pretrained=True, optimizer=auto, verbose=True, seed=0, deterministic=True, single_cls=False, rect=False, cos_lr=False, close_mosaic=10, resume=False, amp=True, fraction=1.0, profile=False, freeze=None, multi_scale=False, overlap_mask=True, mask_ratio=4, dropout=0.0, val=True, split=val, save_json=False, save_hybrid=False, conf=None, iou=0.7, max_det=300, half=False, dnn=False, plots=True, source=None, vid_stride=1, stream_buffer=False, visualize=False, augment=False, agnostic_nms=False, classes=None, retina_masks=False, embed=None, show=False, save_frames=False, save_txt=False, save_conf=False, save_crop=False, show_labels=True, show_conf=True, show_boxes=True, line_width=None, format=torchscript, keras=False, optimize=False, int8=False, dynamic=False, simplify=False, opset=None, workspace=4, nms=False, lr0=0.01, lrf=0.01, momentum=0.937, weight_decay=0.0005, warmup_epochs=3.0, warmup_momentum=0.8, warmup_bias_lr=0.1, box=7.5, cls=0.5, dfl=1.5, pose=12.0, kobj=1.0, label_smoothing=0.0, nbs=64, hsv_h=0.015, hsv_s=0.7, hsv_v=0.4, degrees=0.0, translate=0.1, scale=0.5, shear=0.0, perspective=0.0, flipud=0.0, fliplr=0.5, bgr=0.0, mosaic=1.0, mixup=0.0, copy_paste=0.0, auto_augment=randaugment, erasing=0, crop_fraction=1.0, cfg=None, tracker=botsort.yaml, save_dir=project\\detection_16\n",
      "\u001B[34m\u001B[1mtrain:\u001B[0m C:\\Users\\Admin\\Documents\\xkocian\\torch\\detection-armd-augmented-clahe\\train... found 3120 images in 2 classes  \n",
      "\u001B[34m\u001B[1mval:\u001B[0m C:\\Users\\Admin\\Documents\\xkocian\\torch\\detection-armd-augmented-clahe\\val... found 288 images in 2 classes  \n",
      "\u001B[34m\u001B[1mtest:\u001B[0m C:\\Users\\Admin\\Documents\\xkocian\\torch\\detection-armd-augmented-clahe\\test... found 136 images in 2 classes  \n",
      "Overriding model.yaml nc=1000 with nc=2\n",
      "\n",
      "                   from  n    params  module                                       arguments                     \n",
      "  0                  -1  1      1392  ultralytics.nn.modules.conv.Conv             [3, 48, 3, 2]                 \n",
      "  1                  -1  1     41664  ultralytics.nn.modules.conv.Conv             [48, 96, 3, 2]                \n",
      "  2                  -1  2    111360  ultralytics.nn.modules.block.C2f             [96, 96, 2, True]             \n",
      "  3                  -1  1    166272  ultralytics.nn.modules.conv.Conv             [96, 192, 3, 2]               \n",
      "  4                  -1  4    813312  ultralytics.nn.modules.block.C2f             [192, 192, 4, True]           \n",
      "  5                  -1  1    664320  ultralytics.nn.modules.conv.Conv             [192, 384, 3, 2]              \n",
      "  6                  -1  4   3248640  ultralytics.nn.modules.block.C2f             [384, 384, 4, True]           \n",
      "  7                  -1  1   2655744  ultralytics.nn.modules.conv.Conv             [384, 768, 3, 2]              \n",
      "  8                  -1  2   7084032  ultralytics.nn.modules.block.C2f             [768, 768, 2, True]           \n",
      "  9                  -1  1    988162  ultralytics.nn.modules.head.Classify         [768, 2]                      \n",
      "YOLOv8m-cls summary: 141 layers, 15774898 parameters, 15774898 gradients, 41.9 GFLOPs\n",
      "Transferred 228/230 items from pretrained weights\n",
      "\u001B[34m\u001B[1mUltralytics HUB: \u001B[0mView model at https://hub.ultralytics.com/models/9UoQ0vXyNL4qnNSiOe5e \n",
      "\u001B[34m\u001B[1mAMP: \u001B[0mrunning Automatic Mixed Precision (AMP) checks with YOLOv8n...\n",
      "\u001B[34m\u001B[1mAMP: \u001B[0mchecks passed \n"
     ]
    },
    {
     "name": "stderr",
     "output_type": "stream",
     "text": [
      "\u001B[34m\u001B[1mtrain: \u001B[0mScanning C:\\Users\\Admin\\Documents\\xkocian\\torch\\detection-armd-augmented-clahe\\train... 3120 images, 0 corrupt: 100%|██████████| 3120/3120 [00:00<00:00, 6558.35it/s]\n"
     ]
    },
    {
     "name": "stdout",
     "output_type": "stream",
     "text": [
      "\u001B[34m\u001B[1mtrain: \u001B[0mNew cache created: C:\\Users\\Admin\\Documents\\xkocian\\torch\\detection-armd-augmented-clahe\\train.cache\n"
     ]
    },
    {
     "name": "stderr",
     "output_type": "stream",
     "text": [
      "\u001B[34m\u001B[1mval: \u001B[0mScanning C:\\Users\\Admin\\Documents\\xkocian\\torch\\detection-armd-augmented-clahe\\val... 288 images, 0 corrupt: 100%|██████████| 288/288 [00:00<00:00, 4978.94it/s]"
     ]
    },
    {
     "name": "stdout",
     "output_type": "stream",
     "text": [
      "\u001B[34m\u001B[1mval: \u001B[0mNew cache created: C:\\Users\\Admin\\Documents\\xkocian\\torch\\detection-armd-augmented-clahe\\val.cache\n"
     ]
    },
    {
     "name": "stderr",
     "output_type": "stream",
     "text": [
      "\n"
     ]
    },
    {
     "name": "stdout",
     "output_type": "stream",
     "text": [
      "\u001B[34m\u001B[1moptimizer:\u001B[0m 'optimizer=auto' found, ignoring 'lr0=0.01' and 'momentum=0.937' and determining best 'optimizer', 'lr0' and 'momentum' automatically... \n",
      "\u001B[34m\u001B[1moptimizer:\u001B[0m AdamW(lr=0.000714, momentum=0.9) with parameter groups 38 weight(decay=0.0), 39 weight(decay=0.0005), 39 bias(decay=0.0)\n",
      "Image sizes 384 train, 384 val\n",
      "Using 8 dataloader workers\n",
      "Logging results to \u001B[1mproject\\detection_16\u001B[0m\n",
      "Starting training for 100 epochs...\n",
      "\n",
      "      Epoch    GPU_mem       loss  Instances       Size\n"
     ]
    },
    {
     "name": "stderr",
     "output_type": "stream",
     "text": [
      "      1/100       2.4G     0.5373         16        384: 100%|██████████| 195/195 [00:10<00:00, 18.74it/s]\n",
      "               classes   top1_acc   top5_acc: 100%|██████████| 9/9 [00:00<00:00, 36.39it/s]"
     ]
    },
    {
     "name": "stdout",
     "output_type": "stream",
     "text": [
      "                   all      0.851          1\n"
     ]
    },
    {
     "name": "stderr",
     "output_type": "stream",
     "text": [
      "\n"
     ]
    },
    {
     "name": "stdout",
     "output_type": "stream",
     "text": [
      "\n",
      "      Epoch    GPU_mem       loss  Instances       Size\n"
     ]
    },
    {
     "name": "stderr",
     "output_type": "stream",
     "text": [
      "      2/100       2.6G     0.3295         16        384: 100%|██████████| 195/195 [00:08<00:00, 21.83it/s]\n",
      "               classes   top1_acc   top5_acc: 100%|██████████| 9/9 [00:00<00:00, 35.39it/s]"
     ]
    },
    {
     "name": "stdout",
     "output_type": "stream",
     "text": [
      "                   all      0.844          1\n"
     ]
    },
    {
     "name": "stderr",
     "output_type": "stream",
     "text": [
      "\n"
     ]
    },
    {
     "name": "stdout",
     "output_type": "stream",
     "text": [
      "\n",
      "      Epoch    GPU_mem       loss  Instances       Size\n"
     ]
    },
    {
     "name": "stderr",
     "output_type": "stream",
     "text": [
      "      3/100       2.6G      0.283         16        384: 100%|██████████| 195/195 [00:09<00:00, 20.98it/s]\n",
      "               classes   top1_acc   top5_acc: 100%|██████████| 9/9 [00:00<00:00, 34.05it/s]"
     ]
    },
    {
     "name": "stdout",
     "output_type": "stream",
     "text": [
      "                   all      0.858          1\n"
     ]
    },
    {
     "name": "stderr",
     "output_type": "stream",
     "text": [
      "\n"
     ]
    },
    {
     "name": "stdout",
     "output_type": "stream",
     "text": [
      "\n",
      "      Epoch    GPU_mem       loss  Instances       Size\n"
     ]
    },
    {
     "name": "stderr",
     "output_type": "stream",
     "text": [
      "      4/100       2.6G     0.2614         16        384: 100%|██████████| 195/195 [00:09<00:00, 20.61it/s]\n",
      "               classes   top1_acc   top5_acc: 100%|██████████| 9/9 [00:00<00:00, 33.67it/s]"
     ]
    },
    {
     "name": "stdout",
     "output_type": "stream",
     "text": [
      "                   all      0.885          1\n"
     ]
    },
    {
     "name": "stderr",
     "output_type": "stream",
     "text": [
      "\n"
     ]
    },
    {
     "name": "stdout",
     "output_type": "stream",
     "text": [
      "\n",
      "      Epoch    GPU_mem       loss  Instances       Size\n"
     ]
    },
    {
     "name": "stderr",
     "output_type": "stream",
     "text": [
      "      5/100       2.6G     0.2146         16        384: 100%|██████████| 195/195 [00:08<00:00, 21.78it/s]\n",
      "               classes   top1_acc   top5_acc: 100%|██████████| 9/9 [00:00<00:00, 37.14it/s]"
     ]
    },
    {
     "name": "stdout",
     "output_type": "stream",
     "text": [
      "                   all      0.858          1\n"
     ]
    },
    {
     "name": "stderr",
     "output_type": "stream",
     "text": [
      "\n"
     ]
    },
    {
     "name": "stdout",
     "output_type": "stream",
     "text": [
      "\n",
      "      Epoch    GPU_mem       loss  Instances       Size\n"
     ]
    },
    {
     "name": "stderr",
     "output_type": "stream",
     "text": [
      "      6/100      2.61G     0.1766         16        384: 100%|██████████| 195/195 [00:08<00:00, 22.02it/s]\n",
      "               classes   top1_acc   top5_acc: 100%|██████████| 9/9 [00:00<00:00, 36.10it/s]"
     ]
    },
    {
     "name": "stdout",
     "output_type": "stream",
     "text": [
      "                   all      0.878          1\n"
     ]
    },
    {
     "name": "stderr",
     "output_type": "stream",
     "text": [
      "\n"
     ]
    },
    {
     "name": "stdout",
     "output_type": "stream",
     "text": [
      "\n",
      "      Epoch    GPU_mem       loss  Instances       Size\n"
     ]
    },
    {
     "name": "stderr",
     "output_type": "stream",
     "text": [
      "      7/100       2.6G     0.1378         16        384: 100%|██████████| 195/195 [00:08<00:00, 22.28it/s]\n",
      "               classes   top1_acc   top5_acc: 100%|██████████| 9/9 [00:00<00:00, 36.98it/s]"
     ]
    },
    {
     "name": "stdout",
     "output_type": "stream",
     "text": [
      "                   all      0.882          1\n"
     ]
    },
    {
     "name": "stderr",
     "output_type": "stream",
     "text": [
      "\n"
     ]
    },
    {
     "name": "stdout",
     "output_type": "stream",
     "text": [
      "\n",
      "      Epoch    GPU_mem       loss  Instances       Size\n"
     ]
    },
    {
     "name": "stderr",
     "output_type": "stream",
     "text": [
      "      8/100      2.59G      0.138         16        384: 100%|██████████| 195/195 [00:09<00:00, 21.56it/s]\n",
      "               classes   top1_acc   top5_acc: 100%|██████████| 9/9 [00:00<00:00, 31.01it/s]"
     ]
    },
    {
     "name": "stdout",
     "output_type": "stream",
     "text": [
      "                   all      0.851          1\n"
     ]
    },
    {
     "name": "stderr",
     "output_type": "stream",
     "text": [
      "\n"
     ]
    },
    {
     "name": "stdout",
     "output_type": "stream",
     "text": [
      "\n",
      "      Epoch    GPU_mem       loss  Instances       Size\n"
     ]
    },
    {
     "name": "stderr",
     "output_type": "stream",
     "text": [
      "      9/100       2.6G     0.1068         16        384: 100%|██████████| 195/195 [00:08<00:00, 22.07it/s]\n",
      "               classes   top1_acc   top5_acc: 100%|██████████| 9/9 [00:00<00:00, 33.55it/s]"
     ]
    },
    {
     "name": "stdout",
     "output_type": "stream",
     "text": [
      "                   all      0.861          1\n"
     ]
    },
    {
     "name": "stderr",
     "output_type": "stream",
     "text": [
      "\n"
     ]
    },
    {
     "name": "stdout",
     "output_type": "stream",
     "text": [
      "\n",
      "      Epoch    GPU_mem       loss  Instances       Size\n"
     ]
    },
    {
     "name": "stderr",
     "output_type": "stream",
     "text": [
      "     10/100      2.59G     0.1064         16        384: 100%|██████████| 195/195 [00:09<00:00, 20.76it/s]\n",
      "               classes   top1_acc   top5_acc: 100%|██████████| 9/9 [00:00<00:00, 34.84it/s]"
     ]
    },
    {
     "name": "stdout",
     "output_type": "stream",
     "text": [
      "                   all      0.858          1\n"
     ]
    },
    {
     "name": "stderr",
     "output_type": "stream",
     "text": [
      "\n"
     ]
    },
    {
     "name": "stdout",
     "output_type": "stream",
     "text": [
      "\n",
      "      Epoch    GPU_mem       loss  Instances       Size\n"
     ]
    },
    {
     "name": "stderr",
     "output_type": "stream",
     "text": [
      "     11/100      2.59G    0.09289         16        384: 100%|██████████| 195/195 [00:10<00:00, 19.46it/s]\n",
      "               classes   top1_acc   top5_acc: 100%|██████████| 9/9 [00:00<00:00, 34.05it/s]"
     ]
    },
    {
     "name": "stdout",
     "output_type": "stream",
     "text": [
      "                   all      0.854          1\n"
     ]
    },
    {
     "name": "stderr",
     "output_type": "stream",
     "text": [
      "\n"
     ]
    },
    {
     "name": "stdout",
     "output_type": "stream",
     "text": [
      "\n",
      "      Epoch    GPU_mem       loss  Instances       Size\n"
     ]
    },
    {
     "name": "stderr",
     "output_type": "stream",
     "text": [
      "     12/100       2.6G    0.07429         16        384: 100%|██████████| 195/195 [00:09<00:00, 20.75it/s]\n",
      "               classes   top1_acc   top5_acc: 100%|██████████| 9/9 [00:00<00:00, 34.84it/s]"
     ]
    },
    {
     "name": "stdout",
     "output_type": "stream",
     "text": [
      "                   all      0.858          1\n"
     ]
    },
    {
     "name": "stderr",
     "output_type": "stream",
     "text": [
      "\n"
     ]
    },
    {
     "name": "stdout",
     "output_type": "stream",
     "text": [
      "\n",
      "      Epoch    GPU_mem       loss  Instances       Size\n"
     ]
    },
    {
     "name": "stderr",
     "output_type": "stream",
     "text": [
      "     13/100      2.61G    0.07242         16        384: 100%|██████████| 195/195 [00:09<00:00, 20.99it/s]\n",
      "               classes   top1_acc   top5_acc: 100%|██████████| 9/9 [00:00<00:00, 33.06it/s]"
     ]
    },
    {
     "name": "stdout",
     "output_type": "stream",
     "text": [
      "                   all      0.868          1\n"
     ]
    },
    {
     "name": "stderr",
     "output_type": "stream",
     "text": [
      "\n"
     ]
    },
    {
     "name": "stdout",
     "output_type": "stream",
     "text": [
      "\n",
      "      Epoch    GPU_mem       loss  Instances       Size\n"
     ]
    },
    {
     "name": "stderr",
     "output_type": "stream",
     "text": [
      "     14/100      2.59G    0.08066         16        384: 100%|██████████| 195/195 [00:09<00:00, 20.81it/s]\n",
      "               classes   top1_acc   top5_acc: 100%|██████████| 9/9 [00:00<00:00, 34.71it/s]"
     ]
    },
    {
     "name": "stdout",
     "output_type": "stream",
     "text": [
      "                   all      0.865          1\n",
      "\u001B[34m\u001B[1mEarlyStopping: \u001B[0mTraining stopped early as no improvement observed in last 10 epochs. Best results observed at epoch 4, best model saved as best.pt.\n",
      "To update EarlyStopping(patience=10) pass a new patience value, i.e. `patience=300` or use `patience=0` to disable EarlyStopping.\n"
     ]
    },
    {
     "name": "stderr",
     "output_type": "stream",
     "text": [
      "\n"
     ]
    },
    {
     "name": "stdout",
     "output_type": "stream",
     "text": [
      "\n",
      "14 epochs completed in 0.040 hours.\n",
      "Optimizer stripped from project\\detection_16\\weights\\last.pt, 31.7MB\n",
      "Optimizer stripped from project\\detection_16\\weights\\best.pt, 31.7MB\n",
      "\n",
      "Validating project\\detection_16\\weights\\best.pt...\n",
      "Ultralytics YOLOv8.1.46  Python-3.8.0 torch-2.2.2+cu118 CUDA:0 (NVIDIA GeForce RTX 3090, 24576MiB)\n",
      "YOLOv8m-cls summary (fused): 103 layers, 15765218 parameters, 0 gradients, 41.6 GFLOPs\n",
      "\u001B[34m\u001B[1mtrain:\u001B[0m C:\\Users\\Admin\\Documents\\xkocian\\torch\\detection-armd-augmented-clahe\\train... found 3120 images in 2 classes  \n",
      "\u001B[34m\u001B[1mval:\u001B[0m C:\\Users\\Admin\\Documents\\xkocian\\torch\\detection-armd-augmented-clahe\\val... found 288 images in 2 classes  \n",
      "\u001B[34m\u001B[1mtest:\u001B[0m C:\\Users\\Admin\\Documents\\xkocian\\torch\\detection-armd-augmented-clahe\\test... found 136 images in 2 classes  \n"
     ]
    },
    {
     "name": "stderr",
     "output_type": "stream",
     "text": [
      "               classes   top1_acc   top5_acc: 100%|██████████| 9/9 [00:00<00:00, 27.43it/s]\n"
     ]
    },
    {
     "name": "stdout",
     "output_type": "stream",
     "text": [
      "                   all      0.885          1\n",
      "Speed: 0.2ms preprocess, 0.8ms inference, 0.0ms loss, 0.0ms postprocess per image\n",
      "Results saved to \u001B[1mproject\\detection_16\u001B[0m\n",
      "Results saved to \u001B[1mproject\\detection_16\u001B[0m\n",
      "\u001B[34m\u001B[1mUltralytics HUB: \u001B[0mSyncing final model...\n"
     ]
    },
    {
     "name": "stderr",
     "output_type": "stream",
     "text": [
      "100%|██████████| 30.2M/30.2M [00:02<00:00, 12.4MB/s]"
     ]
    },
    {
     "name": "stdout",
     "output_type": "stream",
     "text": [
      "\u001B[34m\u001B[1mUltralytics HUB: \u001B[0mDone \n",
      "\u001B[34m\u001B[1mUltralytics HUB: \u001B[0mView model at https://hub.ultralytics.com/models/9UoQ0vXyNL4qnNSiOe5e \n"
     ]
    },
    {
     "name": "stderr",
     "output_type": "stream",
     "text": [
      "\n"
     ]
    },
    {
     "data": {
      "text/plain": "ultralytics.utils.metrics.ClassifyMetrics object with attributes:\n\nconfusion_matrix: <ultralytics.utils.metrics.ConfusionMatrix object at 0x0000027BF45F9BE0>\ncurves: []\ncurves_results: []\nfitness: 0.9427083432674408\nkeys: ['metrics/accuracy_top1', 'metrics/accuracy_top5']\nresults_dict: {'metrics/accuracy_top1': 0.8854166865348816, 'metrics/accuracy_top5': 1.0, 'fitness': 0.9427083432674408}\nsave_dir: WindowsPath('project/detection_16')\nspeed: {'preprocess': 0.21815962261623809, 'inference': 0.8138120174407959, 'loss': 0.0, 'postprocess': 0.0}\ntask: 'classify'\ntop1: 0.8854166865348816\ntop5: 1.0"
     },
     "execution_count": 23,
     "metadata": {},
     "output_type": "execute_result"
    }
   ],
   "source": [
    "model.train(data=train_path, epochs=100, erasing=0, mixup=0.0, project='project', batch=batch_size, imgsz=image_size, patience=10, name=f'{train_path.split(\"-\")[0]}_{batch_size}')"
   ],
   "metadata": {
    "collapsed": false,
    "ExecuteTime": {
     "end_time": "2024-04-27T20:36:37.206347Z",
     "start_time": "2024-04-27T20:33:14.846940Z"
    }
   },
   "id": "49cac082653a164a",
   "execution_count": 23
  },
  {
   "cell_type": "code",
   "outputs": [],
   "source": [
    "test_data_path = f\"{train_path}/test\"\n",
    "predictions = []\n",
    "test_images = []\n",
    "test_classes = []\n",
    "test_labels =[]\n",
    "class_folders = os.listdir(test_data_path)\n",
    "for class_index, class_folder in enumerate(class_folders):\n",
    "    class_path = os.path.join(test_data_path, class_folder)\n",
    "    if os.path.isdir(class_path):\n",
    "        for image_file in glob.glob(os.path.join(class_path, \"*.jpg\")):\n",
    "            # Load the image using OpenCV\n",
    "            image = cv2.imread(image_file)\n",
    "            # Preprocess the image (resize, normalize, etc.) if needed\n",
    "            # Perform prediction using your YOLOv8 model\n",
    "            prediction = model.predict(image, imgsz=384, verbose=False)  # Assuming model.predict() takes an image as input\n",
    "            for result in prediction:\n",
    "                predictions.append(result.probs.data.cpu().numpy())\n",
    "            test_images.append(image)\n",
    "            test_labels.append(class_folder)\n",
    "            test_classes.append(class_index)\n",
    "            "
   ],
   "metadata": {
    "collapsed": false,
    "ExecuteTime": {
     "end_time": "2024-04-27T20:36:39.606932Z",
     "start_time": "2024-04-27T20:36:37.207345Z"
    }
   },
   "id": "a5881f636ecd1e6e",
   "execution_count": 24
  },
  {
   "cell_type": "code",
   "outputs": [
    {
     "name": "stdout",
     "output_type": "stream",
     "text": [
      "              precision    recall  f1-score   support\n",
      "\n",
      "           0     0.9508    0.8529    0.8992        68\n",
      "           1     0.8667    0.9559    0.9091        68\n",
      "\n",
      "    accuracy                         0.9044       136\n",
      "   macro avg     0.9087    0.9044    0.9042       136\n",
      "weighted avg     0.9087    0.9044    0.9042       136\n"
     ]
    }
   ],
   "source": [
    "from sklearn.metrics import confusion_matrix\n",
    "from matplotlib import pyplot as plt\n",
    "from sklearn.preprocessing import LabelBinarizer\n",
    "import seaborn as sns\n",
    "\n",
    "predicted_classes = np.argmax(predictions, axis=1)\n",
    "confusionmatrix = confusion_matrix(test_classes, predicted_classes)\n",
    "plt.figure(figsize=(4, 4))\n",
    "sns.set(font_scale=1.2)\n",
    "sns.heatmap(confusionmatrix, cmap='Blues', annot=True, cbar=True, fmt='g', xticklabels=list(set(test_labels)),\n",
    "            yticklabels=list(set(test_labels)))\n",
    "\n",
    "plt.savefig(f'plots/confusion_matrix_{train_path.split(\"-\")[0]}_{batch_size}.jpg')\n",
    "print(classification_report(test_classes, predicted_classes, digits=4))"
   ],
   "metadata": {
    "collapsed": false,
    "ExecuteTime": {
     "end_time": "2024-04-27T20:36:39.718633Z",
     "start_time": "2024-04-27T20:36:39.607929Z"
    }
   },
   "id": "91d1afa0fb26f87",
   "execution_count": 25
  },
  {
   "cell_type": "code",
   "outputs": [],
   "source": [
    "# from sklearn.metrics import roc_curve, auc\n",
    "# \n",
    "# lb = LabelBinarizer()\n",
    "# lb.fit(test_classes)\n",
    "# test_classes_bin = lb.transform(test_classes)\n",
    "# \n",
    "# plt.figure(figsize=(10, 8))\n",
    "# for i in range(len(lb.classes_)):\n",
    "#     # Extract probabilities for class i from predictions\n",
    "#     class_probabilities = [pred[i] for pred in predictions]\n",
    "#     fpr, tpr, _ = roc_curve(test_classes_bin[:, i], class_probabilities)\n",
    "#     roc_auc = roc_auc_score(test_classes_bin[:, i], class_probabilities)\n",
    "#     plt.plot(fpr, tpr, label=f'ROC krivka (plocha = {roc_auc:.2f}) pre triedu {test_labels[i]}')\n",
    "#     \n",
    "# plt.plot([0, 1], [0, 1], 'k--')\n",
    "# plt.xlim([0.0, 1.0])\n",
    "# plt.ylim([0.0, 1.05])\n",
    "# plt.xlabel('Falošne pozitívne hodnotenia')\n",
    "# plt.ylabel('Pravdivé pozitívne hodnotenia')\n",
    "# plt.title('Krivka (ROC)')\n",
    "# plt.legend(loc=\"lower right\")\n",
    "# plt.savefig(f'plots/roc_auc_{train_path.split(\"-\")[0]}_{batch_size}.jpg')\n",
    "# plt.show()"
   ],
   "metadata": {
    "collapsed": false,
    "ExecuteTime": {
     "end_time": "2024-04-27T20:36:39.734591Z",
     "start_time": "2024-04-27T20:36:39.719631Z"
    }
   },
   "id": "eb9c295643b4d4a3",
   "execution_count": 26
  },
  {
   "cell_type": "code",
   "outputs": [
    {
     "data": {
      "text/plain": "<Figure size 400x400 with 2 Axes>"
     },
     "metadata": {},
     "output_type": "display_data"
    },
    {
     "data": {
      "text/plain": "<Figure size 600x600 with 1 Axes>"
     },
     "metadata": {},
     "output_type": "display_data"
    }
   ],
   "source": [
    "from sklearn.metrics import roc_curve, auc\n",
    "\n",
    "# Initialize an empty list to store probabilities of the positive class\n",
    "probabilities_positive_class = []\n",
    "\n",
    "# Iterate over each array in the predictions list\n",
    "for prediction in predictions:\n",
    "    # Extract the probability of the positive class (assuming it's the second element)\n",
    "    probability_positive_class = prediction[1]\n",
    "    # Append the probability to the list\n",
    "    probabilities_positive_class.append(probability_positive_class)\n",
    "\n",
    "# Convert the list to a numpy array\n",
    "predictions_positive_class = np.array(probabilities_positive_class)\n",
    "\n",
    "\n",
    "fpr, tpr, thresholds = roc_curve(test_classes, predictions_positive_class)\n",
    "roc_auc = auc(fpr, tpr)\n",
    "\n",
    "# Plot ROC curve\n",
    "plt.figure(figsize=(6, 6))\n",
    "plt.plot(fpr, tpr, label=f'ROC krivka (AUC = {roc_auc:.3f})')\n",
    "\n",
    "plt.plot([0, 1], [0, 1], 'k--')\n",
    "plt.xlim([0.0, 1.0])\n",
    "plt.ylim([0.0, 1.05])\n",
    "plt.xlabel('Falošne pozitívne hodnotenia')\n",
    "plt.ylabel('Pravdivé pozitívne hodnotenia')\n",
    "plt.title('Krivka (ROC)')\n",
    "plt.legend(loc=\"lower right\")\n",
    "plt.savefig(f'plots/roc_auc_{train_path.split(\"-\")[0]}_{batch_size}.jpg')\n",
    "plt.show()\n"
   ],
   "metadata": {
    "collapsed": false,
    "ExecuteTime": {
     "end_time": "2024-04-27T20:36:39.846327Z",
     "start_time": "2024-04-27T20:36:39.735588Z"
    }
   },
   "id": "d322bb6e73315b09",
   "execution_count": 27
  },
  {
   "cell_type": "code",
   "outputs": [],
   "source": [],
   "metadata": {
    "collapsed": false,
    "ExecuteTime": {
     "end_time": "2024-04-27T20:36:39.861740Z",
     "start_time": "2024-04-27T20:36:39.847290Z"
    }
   },
   "id": "125795528082f1da",
   "execution_count": 27
  }
 ],
 "metadata": {
  "kernelspec": {
   "display_name": "Python 3",
   "language": "python",
   "name": "python3"
  },
  "language_info": {
   "codemirror_mode": {
    "name": "ipython",
    "version": 2
   },
   "file_extension": ".py",
   "mimetype": "text/x-python",
   "name": "python",
   "nbconvert_exporter": "python",
   "pygments_lexer": "ipython2",
   "version": "2.7.6"
  }
 },
 "nbformat": 4,
 "nbformat_minor": 5
}
