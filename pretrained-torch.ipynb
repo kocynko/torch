{
 "cells": [
  {
   "cell_type": "code",
   "execution_count": 1,
   "id": "initial_id",
   "metadata": {
    "collapsed": true,
    "ExecuteTime": {
     "end_time": "2024-04-11T17:16:40.636552Z",
     "start_time": "2024-04-11T17:16:37.888872Z"
    }
   },
   "outputs": [],
   "source": [
    "import matplotlib.pyplot as plt\n",
    "import torch\n",
    "import torchvision\n",
    "\n",
    "from torch import nn\n",
    "from torchvision import transforms\n",
    "from helper_functions import set_seeds"
   ]
  },
  {
   "cell_type": "code",
   "execution_count": 2,
   "outputs": [
    {
     "data": {
      "text/plain": "'cuda'"
     },
     "execution_count": 2,
     "metadata": {},
     "output_type": "execute_result"
    }
   ],
   "source": [
    "device = \"cuda\" if torch.cuda.is_available() else \"cpu\"\n",
    "device"
   ],
   "metadata": {
    "collapsed": false,
    "ExecuteTime": {
     "end_time": "2024-04-11T17:16:40.652508Z",
     "start_time": "2024-04-11T17:16:40.641535Z"
    }
   },
   "id": "a04c682b5074ae2b"
  },
  {
   "cell_type": "code",
   "execution_count": 3,
   "outputs": [],
   "source": [
    "# 1. Get pretrained weights for ViT-Base\n",
    "pretrained_vit_weights = torchvision.models.ViT_B_16_Weights.DEFAULT\n",
    "\n",
    "# 2. Setup a ViT model instance with pretrained weights\n",
    "pretrained_vit = torchvision.models.vit_b_16(weights=pretrained_vit_weights).to(device)\n",
    "\n",
    "# 3. Freeze the base parameters\n",
    "for parameter in pretrained_vit.parameters():\n",
    "    parameter.requires_grad = False\n",
    "\n",
    "# 4. Change the classifier head \n",
    "class_names = ['dry', 'normal', 'wet']\n",
    "\n",
    "set_seeds()\n",
    "pretrained_vit.heads = nn.Linear(in_features=768, out_features=len(class_names)).to(device)\n",
    "# pretrained_vit # uncomment for model output "
   ],
   "metadata": {
    "collapsed": false,
    "ExecuteTime": {
     "end_time": "2024-04-11T17:16:42.752526Z",
     "start_time": "2024-04-11T17:16:40.653481Z"
    }
   },
   "id": "e2b783a03802e477"
  },
  {
   "cell_type": "code",
   "execution_count": 4,
   "outputs": [
    {
     "name": "stderr",
     "output_type": "stream",
     "text": [
      "C:\\Users\\Admin\\Documents\\xkocian\\torch\\.venv\\lib\\site-packages\\torch\\nn\\modules\\activation.py:1196: UserWarning: 1Torch was not compiled with flash attention. (Triggered internally at C:\\actions-runner\\_work\\pytorch\\pytorch\\builder\\windows\\pytorch\\aten\\src\\ATen\\native\\transformers\\cuda\\sdp_utils.cpp:263.)\n",
      "  return torch._native_multi_head_attention(\n"
     ]
    },
    {
     "data": {
      "text/plain": "============================================================================================================================================\nLayer (type (var_name))                                      Input Shape          Output Shape         Param #              Trainable\n============================================================================================================================================\nVisionTransformer (VisionTransformer)                        [32, 3, 224, 224]    [32, 3]              768                  Partial\n├─Conv2d (conv_proj)                                         [32, 3, 224, 224]    [32, 768, 14, 14]    (590,592)            False\n├─Encoder (encoder)                                          [32, 197, 768]       [32, 197, 768]       151,296              False\n│    └─Dropout (dropout)                                     [32, 197, 768]       [32, 197, 768]       --                   --\n│    └─Sequential (layers)                                   [32, 197, 768]       [32, 197, 768]       --                   False\n│    │    └─EncoderBlock (encoder_layer_0)                   [32, 197, 768]       [32, 197, 768]       (7,087,872)          False\n│    │    └─EncoderBlock (encoder_layer_1)                   [32, 197, 768]       [32, 197, 768]       (7,087,872)          False\n│    │    └─EncoderBlock (encoder_layer_2)                   [32, 197, 768]       [32, 197, 768]       (7,087,872)          False\n│    │    └─EncoderBlock (encoder_layer_3)                   [32, 197, 768]       [32, 197, 768]       (7,087,872)          False\n│    │    └─EncoderBlock (encoder_layer_4)                   [32, 197, 768]       [32, 197, 768]       (7,087,872)          False\n│    │    └─EncoderBlock (encoder_layer_5)                   [32, 197, 768]       [32, 197, 768]       (7,087,872)          False\n│    │    └─EncoderBlock (encoder_layer_6)                   [32, 197, 768]       [32, 197, 768]       (7,087,872)          False\n│    │    └─EncoderBlock (encoder_layer_7)                   [32, 197, 768]       [32, 197, 768]       (7,087,872)          False\n│    │    └─EncoderBlock (encoder_layer_8)                   [32, 197, 768]       [32, 197, 768]       (7,087,872)          False\n│    │    └─EncoderBlock (encoder_layer_9)                   [32, 197, 768]       [32, 197, 768]       (7,087,872)          False\n│    │    └─EncoderBlock (encoder_layer_10)                  [32, 197, 768]       [32, 197, 768]       (7,087,872)          False\n│    │    └─EncoderBlock (encoder_layer_11)                  [32, 197, 768]       [32, 197, 768]       (7,087,872)          False\n│    └─LayerNorm (ln)                                        [32, 197, 768]       [32, 197, 768]       (1,536)              False\n├─Linear (heads)                                             [32, 768]            [32, 3]              2,307                True\n============================================================================================================================================\nTotal params: 85,800,963\nTrainable params: 2,307\nNon-trainable params: 85,798,656\nTotal mult-adds (G): 5.52\n============================================================================================================================================\nInput size (MB): 19.27\nForward/backward pass size (MB): 3330.74\nParams size (MB): 229.20\nEstimated Total Size (MB): 3579.21\n============================================================================================================================================"
     },
     "execution_count": 4,
     "metadata": {},
     "output_type": "execute_result"
    }
   ],
   "source": [
    "from torchinfo import summary\n",
    "\n",
    "# Print a summary using torchinfo (uncomment for actual output)\n",
    "summary(model=pretrained_vit,\n",
    "        input_size=(32, 3, 224, 224),  # (batch_size, color_channels, height, width)\n",
    "        # col_names=[\"input_size\"], # uncomment for smaller output\n",
    "        col_names=[\"input_size\", \"output_size\", \"num_params\", \"trainable\"],\n",
    "        col_width=20,\n",
    "        row_settings=[\"var_names\"]\n",
    "        )"
   ],
   "metadata": {
    "collapsed": false,
    "ExecuteTime": {
     "end_time": "2024-04-11T17:16:44.614589Z",
     "start_time": "2024-04-11T17:16:42.756515Z"
    }
   },
   "id": "76507af06048c5d5"
  },
  {
   "cell_type": "code",
   "execution_count": 5,
   "outputs": [],
   "source": [
    "# Setup directory paths to train and test images\n",
    "train_dir = 'AMD classification.v1i.folder/train'\n",
    "test_dir = 'AMD classification.v1i.folder/val'"
   ],
   "metadata": {
    "collapsed": false,
    "ExecuteTime": {
     "end_time": "2024-04-11T17:16:44.630544Z",
     "start_time": "2024-04-11T17:16:44.616581Z"
    }
   },
   "id": "7c5c2860970beb3e"
  },
  {
   "cell_type": "code",
   "execution_count": 6,
   "outputs": [
    {
     "name": "stdout",
     "output_type": "stream",
     "text": [
      "ImageClassification(\n",
      "    crop_size=[224]\n",
      "    resize_size=[256]\n",
      "    mean=[0.485, 0.456, 0.406]\n",
      "    std=[0.229, 0.224, 0.225]\n",
      "    interpolation=InterpolationMode.BILINEAR\n",
      ")\n"
     ]
    }
   ],
   "source": [
    "pretrained_vit_transforms = pretrained_vit_weights.transforms()\n",
    "print(pretrained_vit_transforms)"
   ],
   "metadata": {
    "collapsed": false,
    "ExecuteTime": {
     "end_time": "2024-04-11T17:16:44.646501Z",
     "start_time": "2024-04-11T17:16:44.631541Z"
    }
   },
   "id": "38316575d1547da6"
  },
  {
   "cell_type": "code",
   "execution_count": 7,
   "outputs": [],
   "source": [
    "import os\n",
    "\n",
    "from torchvision import datasets, transforms\n",
    "from torch.utils.data import DataLoader\n",
    "\n",
    "NUM_WORKERS = os.cpu_count()\n",
    "\n",
    "\n",
    "def create_dataloaders(\n",
    "        train_dir: str,\n",
    "        test_dir: str,\n",
    "        transform: transforms.Compose,\n",
    "        batch_size: int,\n",
    "        num_workers: int = NUM_WORKERS\n",
    "):\n",
    "    # Use ImageFolder to create dataset(s)\n",
    "    train_data = datasets.ImageFolder(train_dir, transform=transform)\n",
    "    test_data = datasets.ImageFolder(test_dir, transform=transform)\n",
    "\n",
    "    # Get class names\n",
    "    class_names = train_data.classes\n",
    "\n",
    "    # Turn images into data loaders\n",
    "    train_dataloader = DataLoader(\n",
    "        train_data,\n",
    "        batch_size=batch_size,\n",
    "        shuffle=True,\n",
    "        num_workers=num_workers,\n",
    "        pin_memory=True,\n",
    "    )\n",
    "    test_dataloader = DataLoader(\n",
    "        test_data,\n",
    "        batch_size=batch_size,\n",
    "        shuffle=False,\n",
    "        num_workers=num_workers,\n",
    "        pin_memory=True,\n",
    "    )\n",
    "\n",
    "    return train_dataloader, test_dataloader, class_names"
   ],
   "metadata": {
    "collapsed": false,
    "ExecuteTime": {
     "end_time": "2024-04-11T17:16:44.662488Z",
     "start_time": "2024-04-11T17:16:44.647498Z"
    }
   },
   "id": "9ef201f42d46a118"
  },
  {
   "cell_type": "code",
   "execution_count": 8,
   "outputs": [],
   "source": [
    "train_dataloader_pretrained, test_dataloader_pretrained, class_names = create_dataloaders(train_dir=train_dir,\n",
    "                                                                                          test_dir=test_dir,transform=pretrained_vit_transforms,\n",
    "                                                                                          batch_size=32)"
   ],
   "metadata": {
    "collapsed": false,
    "ExecuteTime": {
     "end_time": "2024-04-11T17:16:44.694397Z",
     "start_time": "2024-04-11T17:16:44.663457Z"
    }
   },
   "id": "5afef821bf79b6f8"
  },
  {
   "cell_type": "code",
   "execution_count": 9,
   "outputs": [
    {
     "data": {
      "text/plain": "  0%|          | 0/50 [00:00<?, ?it/s]",
      "application/vnd.jupyter.widget-view+json": {
       "version_major": 2,
       "version_minor": 0,
       "model_id": "fb1e1c6b134b43c28004546dfa2f08b6"
      }
     },
     "metadata": {},
     "output_type": "display_data"
    },
    {
     "name": "stdout",
     "output_type": "stream",
     "text": [
      "Epoch: 1 | train_loss: 0.7768 | train_acc: 0.6410 | test_loss: 0.6397 | test_acc: 0.7153\n",
      "Epoch: 2 | train_loss: 0.5952 | train_acc: 0.7408 | test_loss: 0.5599 | test_acc: 0.8160\n",
      "Epoch: 3 | train_loss: 0.5349 | train_acc: 0.7708 | test_loss: 0.5080 | test_acc: 0.8368\n",
      "Epoch: 4 | train_loss: 0.5012 | train_acc: 0.7809 | test_loss: 0.5373 | test_acc: 0.7477\n",
      "Epoch: 5 | train_loss: 0.4759 | train_acc: 0.7930 | test_loss: 0.4811 | test_acc: 0.8160\n",
      "Epoch: 6 | train_loss: 0.4616 | train_acc: 0.7985 | test_loss: 0.4940 | test_acc: 0.8264\n",
      "Epoch: 7 | train_loss: 0.4425 | train_acc: 0.8123 | test_loss: 0.4855 | test_acc: 0.8125\n",
      "Epoch: 8 | train_loss: 0.4278 | train_acc: 0.8233 | test_loss: 0.4703 | test_acc: 0.8264\n",
      "Epoch: 9 | train_loss: 0.4162 | train_acc: 0.8170 | test_loss: 0.5102 | test_acc: 0.8229\n",
      "Epoch: 10 | train_loss: 0.4093 | train_acc: 0.8246 | test_loss: 0.4745 | test_acc: 0.8438\n",
      "Epoch: 11 | train_loss: 0.3976 | train_acc: 0.8355 | test_loss: 0.4679 | test_acc: 0.8125\n",
      "Epoch: 12 | train_loss: 0.3892 | train_acc: 0.8463 | test_loss: 0.4867 | test_acc: 0.8264\n",
      "Epoch: 13 | train_loss: 0.3836 | train_acc: 0.8343 | test_loss: 0.4575 | test_acc: 0.8264\n",
      "Epoch: 14 | train_loss: 0.3745 | train_acc: 0.8428 | test_loss: 0.5043 | test_acc: 0.8160\n",
      "Epoch: 15 | train_loss: 0.3662 | train_acc: 0.8509 | test_loss: 0.4748 | test_acc: 0.8264\n",
      "Epoch: 16 | train_loss: 0.3614 | train_acc: 0.8488 | test_loss: 0.4831 | test_acc: 0.8368\n",
      "Epoch: 17 | train_loss: 0.3580 | train_acc: 0.8525 | test_loss: 0.4845 | test_acc: 0.8160\n",
      "Epoch: 18 | train_loss: 0.3503 | train_acc: 0.8571 | test_loss: 0.4680 | test_acc: 0.8299\n",
      "Epoch: 19 | train_loss: 0.3423 | train_acc: 0.8570 | test_loss: 0.4800 | test_acc: 0.8299\n",
      "Epoch: 20 | train_loss: 0.3389 | train_acc: 0.8597 | test_loss: 0.4705 | test_acc: 0.8229\n",
      "Epoch: 21 | train_loss: 0.3370 | train_acc: 0.8621 | test_loss: 0.4701 | test_acc: 0.8229\n",
      "Epoch: 22 | train_loss: 0.3310 | train_acc: 0.8635 | test_loss: 0.4699 | test_acc: 0.8333\n",
      "Epoch: 23 | train_loss: 0.3269 | train_acc: 0.8644 | test_loss: 0.5429 | test_acc: 0.7847\n",
      "Epoch: 24 | train_loss: 0.3266 | train_acc: 0.8690 | test_loss: 0.5083 | test_acc: 0.7928\n",
      "Epoch: 25 | train_loss: 0.3170 | train_acc: 0.8725 | test_loss: 0.4938 | test_acc: 0.8264\n",
      "Epoch: 26 | train_loss: 0.3121 | train_acc: 0.8747 | test_loss: 0.5032 | test_acc: 0.8403\n",
      "Epoch: 27 | train_loss: 0.3105 | train_acc: 0.8774 | test_loss: 0.5036 | test_acc: 0.7998\n",
      "Epoch: 28 | train_loss: 0.3074 | train_acc: 0.8779 | test_loss: 0.4925 | test_acc: 0.8403\n",
      "Epoch: 29 | train_loss: 0.3031 | train_acc: 0.8803 | test_loss: 0.4939 | test_acc: 0.8368\n",
      "Epoch: 30 | train_loss: 0.2982 | train_acc: 0.8790 | test_loss: 0.4957 | test_acc: 0.8160\n",
      "Epoch: 31 | train_loss: 0.2960 | train_acc: 0.8828 | test_loss: 0.5028 | test_acc: 0.8333\n",
      "Epoch: 32 | train_loss: 0.2928 | train_acc: 0.8833 | test_loss: 0.4812 | test_acc: 0.8125\n",
      "Epoch: 33 | train_loss: 0.2935 | train_acc: 0.8846 | test_loss: 0.5344 | test_acc: 0.7859\n",
      "Epoch: 34 | train_loss: 0.2892 | train_acc: 0.8906 | test_loss: 0.5208 | test_acc: 0.7998\n",
      "Epoch: 35 | train_loss: 0.2904 | train_acc: 0.8847 | test_loss: 0.4859 | test_acc: 0.8299\n",
      "Epoch: 36 | train_loss: 0.2811 | train_acc: 0.8913 | test_loss: 0.5031 | test_acc: 0.8056\n",
      "Epoch: 37 | train_loss: 0.2775 | train_acc: 0.8942 | test_loss: 0.5115 | test_acc: 0.8264\n",
      "Epoch: 38 | train_loss: 0.2760 | train_acc: 0.8926 | test_loss: 0.5698 | test_acc: 0.7789\n",
      "Epoch: 39 | train_loss: 0.2808 | train_acc: 0.8854 | test_loss: 0.5030 | test_acc: 0.8160\n",
      "Epoch: 40 | train_loss: 0.2724 | train_acc: 0.8936 | test_loss: 0.5132 | test_acc: 0.8160\n",
      "Epoch: 41 | train_loss: 0.2658 | train_acc: 0.9012 | test_loss: 0.5166 | test_acc: 0.8229\n",
      "Epoch: 42 | train_loss: 0.2687 | train_acc: 0.8977 | test_loss: 0.5126 | test_acc: 0.8229\n",
      "Epoch: 43 | train_loss: 0.2675 | train_acc: 0.8935 | test_loss: 0.5693 | test_acc: 0.7789\n",
      "Epoch: 44 | train_loss: 0.2612 | train_acc: 0.9011 | test_loss: 0.5352 | test_acc: 0.7963\n",
      "Epoch: 45 | train_loss: 0.2636 | train_acc: 0.8975 | test_loss: 0.5131 | test_acc: 0.8160\n",
      "Epoch: 46 | train_loss: 0.2572 | train_acc: 0.9038 | test_loss: 0.5361 | test_acc: 0.7894\n",
      "Epoch: 47 | train_loss: 0.2557 | train_acc: 0.9056 | test_loss: 0.5098 | test_acc: 0.8368\n",
      "Epoch: 48 | train_loss: 0.2536 | train_acc: 0.9094 | test_loss: 0.5469 | test_acc: 0.7824\n",
      "Epoch: 49 | train_loss: 0.2588 | train_acc: 0.8990 | test_loss: 0.5149 | test_acc: 0.8160\n",
      "Epoch: 50 | train_loss: 0.2499 | train_acc: 0.9023 | test_loss: 0.5287 | test_acc: 0.8102\n"
     ]
    }
   ],
   "source": [
    "from going_modular.going_modular import engine\n",
    "\n",
    "# Create optimizer and loss function\n",
    "optimizer = torch.optim.Adam(params=pretrained_vit.parameters(),\n",
    "                             lr=1e-3)\n",
    "loss_fn = torch.nn.CrossEntropyLoss()\n",
    "\n",
    "# Train the classifier head of the pretrained ViT feature extractor model\n",
    "set_seeds()\n",
    "pretrained_vit_results = engine.train(model=pretrained_vit,\n",
    "                                      train_dataloader=train_dataloader_pretrained,\n",
    "                                      test_dataloader=test_dataloader_pretrained,\n",
    "                                      optimizer=optimizer,\n",
    "                                      loss_fn=loss_fn,\n",
    "                                      epochs=50,\n",
    "                                      device=device)"
   ],
   "metadata": {
    "collapsed": false,
    "ExecuteTime": {
     "end_time": "2024-04-11T18:00:07.096981Z",
     "start_time": "2024-04-11T17:16:44.695371Z"
    }
   },
   "id": "1f983190726f68c9"
  },
  {
   "cell_type": "code",
   "execution_count": 9,
   "outputs": [],
   "source": [],
   "metadata": {
    "collapsed": false,
    "ExecuteTime": {
     "end_time": "2024-04-11T18:00:07.112938Z",
     "start_time": "2024-04-11T18:00:07.097953Z"
    }
   },
   "id": "1d7c14e5d5092cc4"
  }
 ],
 "metadata": {
  "kernelspec": {
   "display_name": "Python 3",
   "language": "python",
   "name": "python3"
  },
  "language_info": {
   "codemirror_mode": {
    "name": "ipython",
    "version": 2
   },
   "file_extension": ".py",
   "mimetype": "text/x-python",
   "name": "python",
   "nbconvert_exporter": "python",
   "pygments_lexer": "ipython2",
   "version": "2.7.6"
  }
 },
 "nbformat": 4,
 "nbformat_minor": 5
}
